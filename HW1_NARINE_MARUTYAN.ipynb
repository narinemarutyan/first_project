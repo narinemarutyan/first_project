{
 "cells": [
  {
   "cell_type": "code",
   "execution_count": 1,
   "id": "9844a2c6",
   "metadata": {},
   "outputs": [
    {
     "name": "stdout",
     "output_type": "stream",
     "text": [
      "v =  0.9221370088957891 u =  1 abserr(u,v) =  0.07786299110421091 relerr(u,v) =  0.08443755141922758\n",
      "v =  1.9190043514889832 u =  2 abserr(u,v) =  0.08099564851101682 relerr(u,v) =  0.04220712081667304\n",
      "v =  5.836209591345864 u =  6 abserr(u,v) =  0.16379040865413597 relerr(u,v) =  0.0280645179187893\n",
      "v =  23.506175132893294 u =  24 abserr(u,v) =  0.4938248671067065 relerr(u,v) =  0.021008303746349367\n",
      "v =  118.0191679575901 u =  120 abserr(u,v) =  1.9808320424099009 relerr(u,v) =  0.01678398582780814\n",
      "v =  710.078184642185 u =  720 abserr(u,v) =  9.921815357815035 relerr(u,v) =  0.01397284914873808\n",
      "v =  4980.395831612462 u =  5040 abserr(u,v) =  59.604168387538266 relerr(u,v) =  0.01196775726322956\n",
      "v =  39902.39545265671 u =  40320 abserr(u,v) =  417.6045473432896 relerr(u,v) =  0.010465651061946092\n",
      "v =  359536.87284194835 u =  362880 abserr(u,v) =  3343.1271580516477 relerr(u,v) =  0.009298426421818714\n",
      "v =  3598695.6187410373 u =  3628800 abserr(u,v) =  30104.381258962676 relerr(u,v) =  0.008365359132399853\n"
     ]
    }
   ],
   "source": [
    "from math import sqrt\n",
    "from math import pi\n",
    "from math import e\n",
    "from math import factorial\n",
    "\n",
    "def S(n):\n",
    "    return sqrt(n*2*pi)*((n/e)**n)\n",
    "\n",
    "def abserr(u,v):\n",
    "    return abs(u - v)\n",
    "\n",
    "def relerr(u,v):\n",
    "    return abs(u-v)/abs(v)\n",
    "\n",
    "for n in range(1,11):\n",
    "    v = S(n)\n",
    "    u = factorial(n)\n",
    "    print(\"v = \",v,\"u = \",u,\"abserr(u,v) = \",abserr(u,v),\"relerr(u,v) = \",relerr(u,v))\n",
    "\n"
   ]
  },
  {
   "cell_type": "code",
   "execution_count": null,
   "id": "bc83d15f",
   "metadata": {},
   "outputs": [],
   "source": []
  },
  {
   "cell_type": "code",
   "execution_count": null,
   "id": "831877e3",
   "metadata": {},
   "outputs": [],
   "source": []
  }
 ],
 "metadata": {
  "kernelspec": {
   "display_name": "Python 3",
   "language": "python",
   "name": "python3"
  },
  "language_info": {
   "codemirror_mode": {
    "name": "ipython",
    "version": 3
   },
   "file_extension": ".py",
   "mimetype": "text/x-python",
   "name": "python",
   "nbconvert_exporter": "python",
   "pygments_lexer": "ipython3",
   "version": "3.8.8"
  }
 },
 "nbformat": 4,
 "nbformat_minor": 5
}
